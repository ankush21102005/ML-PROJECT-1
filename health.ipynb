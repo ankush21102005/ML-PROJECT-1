{
 "cells": [
  {
   "cell_type": "code",
   "execution_count": 68,
   "id": "31473b26",
   "metadata": {},
   "outputs": [],
   "source": [
    "# Preprocessing\n",
    "from sklearn.impute import SimpleImputer\n",
    "from sklearn.model_selection import train_test_split\n",
    "from sklearn.preprocessing import StandardScaler\n",
    "from sklearn.model_selection import GridSearchCV\n",
    "\n",
    "# Model\n",
    "from sklearn.ensemble import RandomForestRegressor\n",
    "\n",
    "# Evaluation\n",
    "from sklearn.metrics import r2_score, mean_squared_error, mean_absolute_error\n",
    "\n",
    "import numpy as np # linear algebra\n",
    "import pandas as pd # data processing, CSV file I/O (e.g. pd.read_csv)\n"
   ]
  },
  {
   "cell_type": "code",
   "execution_count": 69,
   "id": "46674364",
   "metadata": {},
   "outputs": [],
   "source": [
    "df=pd.read_csv('wearable_health_devices_performance_upto_26june2025.csv')"
   ]
  },
  {
   "cell_type": "code",
   "execution_count": 70,
   "id": "7042f4f2",
   "metadata": {},
   "outputs": [
    {
     "data": {
      "text/html": [
       "<div>\n",
       "<style scoped>\n",
       "    .dataframe tbody tr th:only-of-type {\n",
       "        vertical-align: middle;\n",
       "    }\n",
       "\n",
       "    .dataframe tbody tr th {\n",
       "        vertical-align: top;\n",
       "    }\n",
       "\n",
       "    .dataframe thead th {\n",
       "        text-align: right;\n",
       "    }\n",
       "</style>\n",
       "<table border=\"1\" class=\"dataframe\">\n",
       "  <thead>\n",
       "    <tr style=\"text-align: right;\">\n",
       "      <th></th>\n",
       "      <th>Test_Date</th>\n",
       "      <th>Device_Name</th>\n",
       "      <th>Brand</th>\n",
       "      <th>Model</th>\n",
       "      <th>Category</th>\n",
       "      <th>Price_USD</th>\n",
       "      <th>Battery_Life_Hours</th>\n",
       "      <th>Heart_Rate_Accuracy_Percent</th>\n",
       "      <th>Step_Count_Accuracy_Percent</th>\n",
       "      <th>Sleep_Tracking_Accuracy_Percent</th>\n",
       "      <th>Water_Resistance_Rating</th>\n",
       "      <th>User_Satisfaction_Rating</th>\n",
       "      <th>GPS_Accuracy_Meters</th>\n",
       "      <th>Connectivity_Features</th>\n",
       "      <th>Health_Sensors_Count</th>\n",
       "      <th>App_Ecosystem_Support</th>\n",
       "      <th>Performance_Score</th>\n",
       "    </tr>\n",
       "  </thead>\n",
       "  <tbody>\n",
       "    <tr>\n",
       "      <th>0</th>\n",
       "      <td>2025-06-01</td>\n",
       "      <td>Fitbit Inspire 4</td>\n",
       "      <td>Fitbit</td>\n",
       "      <td>Inspire 4</td>\n",
       "      <td>Fitness Tracker</td>\n",
       "      <td>141.74</td>\n",
       "      <td>129.9</td>\n",
       "      <td>89.69</td>\n",
       "      <td>93.03</td>\n",
       "      <td>78.91</td>\n",
       "      <td>3ATM</td>\n",
       "      <td>6.5</td>\n",
       "      <td>NaN</td>\n",
       "      <td>Bluetooth, WiFi</td>\n",
       "      <td>5</td>\n",
       "      <td>Cross-platform</td>\n",
       "      <td>68.4</td>\n",
       "    </tr>\n",
       "    <tr>\n",
       "      <th>1</th>\n",
       "      <td>2025-06-01</td>\n",
       "      <td>Apple Watch SE 3</td>\n",
       "      <td>Apple</td>\n",
       "      <td>Watch SE 3</td>\n",
       "      <td>Smartwatch</td>\n",
       "      <td>834.64</td>\n",
       "      <td>26.5</td>\n",
       "      <td>95.92</td>\n",
       "      <td>98.20</td>\n",
       "      <td>79.76</td>\n",
       "      <td>IP68</td>\n",
       "      <td>8.3</td>\n",
       "      <td>4.9</td>\n",
       "      <td>WiFi, Bluetooth, NFC</td>\n",
       "      <td>8</td>\n",
       "      <td>iOS</td>\n",
       "      <td>60.1</td>\n",
       "    </tr>\n",
       "    <tr>\n",
       "      <th>2</th>\n",
       "      <td>2025-06-01</td>\n",
       "      <td>Fitbit Versa 4</td>\n",
       "      <td>Fitbit</td>\n",
       "      <td>Versa 4</td>\n",
       "      <td>Sports Watch</td>\n",
       "      <td>145.34</td>\n",
       "      <td>161.2</td>\n",
       "      <td>92.24</td>\n",
       "      <td>96.81</td>\n",
       "      <td>74.49</td>\n",
       "      <td>IPX8</td>\n",
       "      <td>6.0</td>\n",
       "      <td>1.7</td>\n",
       "      <td>Bluetooth</td>\n",
       "      <td>7</td>\n",
       "      <td>Cross-platform</td>\n",
       "      <td>59.3</td>\n",
       "    </tr>\n",
       "    <tr>\n",
       "      <th>3</th>\n",
       "      <td>2025-06-01</td>\n",
       "      <td>Polar Vantage V3</td>\n",
       "      <td>Polar</td>\n",
       "      <td>Vantage V3</td>\n",
       "      <td>Smartwatch</td>\n",
       "      <td>349.53</td>\n",
       "      <td>69.4</td>\n",
       "      <td>96.77</td>\n",
       "      <td>95.56</td>\n",
       "      <td>78.06</td>\n",
       "      <td>IP68</td>\n",
       "      <td>8.0</td>\n",
       "      <td>3.2</td>\n",
       "      <td>WiFi, Bluetooth, NFC, LTE</td>\n",
       "      <td>12</td>\n",
       "      <td>Cross-platform</td>\n",
       "      <td>61.0</td>\n",
       "    </tr>\n",
       "    <tr>\n",
       "      <th>4</th>\n",
       "      <td>2025-06-01</td>\n",
       "      <td>Samsung Galaxy Watch FE</td>\n",
       "      <td>Samsung</td>\n",
       "      <td>Galaxy Watch FE</td>\n",
       "      <td>Smartwatch</td>\n",
       "      <td>502.43</td>\n",
       "      <td>39.7</td>\n",
       "      <td>92.27</td>\n",
       "      <td>98.15</td>\n",
       "      <td>75.23</td>\n",
       "      <td>IPX8</td>\n",
       "      <td>8.3</td>\n",
       "      <td>1.6</td>\n",
       "      <td>WiFi, Bluetooth, NFC, LTE</td>\n",
       "      <td>14</td>\n",
       "      <td>Android/iOS</td>\n",
       "      <td>61.2</td>\n",
       "    </tr>\n",
       "  </tbody>\n",
       "</table>\n",
       "</div>"
      ],
      "text/plain": [
       "    Test_Date              Device_Name    Brand            Model  \\\n",
       "0  2025-06-01         Fitbit Inspire 4   Fitbit        Inspire 4   \n",
       "1  2025-06-01         Apple Watch SE 3    Apple       Watch SE 3   \n",
       "2  2025-06-01           Fitbit Versa 4   Fitbit          Versa 4   \n",
       "3  2025-06-01         Polar Vantage V3    Polar       Vantage V3   \n",
       "4  2025-06-01  Samsung Galaxy Watch FE  Samsung  Galaxy Watch FE   \n",
       "\n",
       "          Category  Price_USD  Battery_Life_Hours  \\\n",
       "0  Fitness Tracker     141.74               129.9   \n",
       "1       Smartwatch     834.64                26.5   \n",
       "2     Sports Watch     145.34               161.2   \n",
       "3       Smartwatch     349.53                69.4   \n",
       "4       Smartwatch     502.43                39.7   \n",
       "\n",
       "   Heart_Rate_Accuracy_Percent  Step_Count_Accuracy_Percent  \\\n",
       "0                        89.69                        93.03   \n",
       "1                        95.92                        98.20   \n",
       "2                        92.24                        96.81   \n",
       "3                        96.77                        95.56   \n",
       "4                        92.27                        98.15   \n",
       "\n",
       "   Sleep_Tracking_Accuracy_Percent Water_Resistance_Rating  \\\n",
       "0                            78.91                    3ATM   \n",
       "1                            79.76                    IP68   \n",
       "2                            74.49                    IPX8   \n",
       "3                            78.06                    IP68   \n",
       "4                            75.23                    IPX8   \n",
       "\n",
       "   User_Satisfaction_Rating  GPS_Accuracy_Meters      Connectivity_Features  \\\n",
       "0                       6.5                  NaN            Bluetooth, WiFi   \n",
       "1                       8.3                  4.9       WiFi, Bluetooth, NFC   \n",
       "2                       6.0                  1.7                  Bluetooth   \n",
       "3                       8.0                  3.2  WiFi, Bluetooth, NFC, LTE   \n",
       "4                       8.3                  1.6  WiFi, Bluetooth, NFC, LTE   \n",
       "\n",
       "   Health_Sensors_Count App_Ecosystem_Support  Performance_Score  \n",
       "0                     5        Cross-platform               68.4  \n",
       "1                     8                   iOS               60.1  \n",
       "2                     7        Cross-platform               59.3  \n",
       "3                    12        Cross-platform               61.0  \n",
       "4                    14           Android/iOS               61.2  "
      ]
     },
     "execution_count": 70,
     "metadata": {},
     "output_type": "execute_result"
    }
   ],
   "source": [
    "df.head()"
   ]
  },
  {
   "cell_type": "code",
   "execution_count": 71,
   "id": "30af3959",
   "metadata": {},
   "outputs": [
    {
     "data": {
      "text/plain": [
       "(2375, 17)"
      ]
     },
     "execution_count": 71,
     "metadata": {},
     "output_type": "execute_result"
    }
   ],
   "source": [
    "df.shape"
   ]
  },
  {
   "cell_type": "code",
   "execution_count": 72,
   "id": "d42e7f4e",
   "metadata": {},
   "outputs": [
    {
     "name": "stdout",
     "output_type": "stream",
     "text": [
      "<class 'pandas.core.frame.DataFrame'>\n",
      "RangeIndex: 2375 entries, 0 to 2374\n",
      "Data columns (total 17 columns):\n",
      " #   Column                           Non-Null Count  Dtype  \n",
      "---  ------                           --------------  -----  \n",
      " 0   Test_Date                        2375 non-null   object \n",
      " 1   Device_Name                      2375 non-null   object \n",
      " 2   Brand                            2375 non-null   object \n",
      " 3   Model                            2375 non-null   object \n",
      " 4   Category                         2375 non-null   object \n",
      " 5   Price_USD                        2375 non-null   float64\n",
      " 6   Battery_Life_Hours               2375 non-null   float64\n",
      " 7   Heart_Rate_Accuracy_Percent      2375 non-null   float64\n",
      " 8   Step_Count_Accuracy_Percent      2375 non-null   float64\n",
      " 9   Sleep_Tracking_Accuracy_Percent  2375 non-null   float64\n",
      " 10  Water_Resistance_Rating          2375 non-null   object \n",
      " 11  User_Satisfaction_Rating         2375 non-null   float64\n",
      " 12  GPS_Accuracy_Meters              1743 non-null   float64\n",
      " 13  Connectivity_Features            2375 non-null   object \n",
      " 14  Health_Sensors_Count             2375 non-null   int64  \n",
      " 15  App_Ecosystem_Support            2375 non-null   object \n",
      " 16  Performance_Score                2375 non-null   float64\n",
      "dtypes: float64(8), int64(1), object(8)\n",
      "memory usage: 315.6+ KB\n"
     ]
    }
   ],
   "source": [
    "df.info()"
   ]
  },
  {
   "cell_type": "code",
   "execution_count": 73,
   "id": "9b9cdb4c",
   "metadata": {},
   "outputs": [
    {
     "data": {
      "text/plain": [
       "Test_Date                            0\n",
       "Device_Name                          0\n",
       "Brand                                0\n",
       "Model                                0\n",
       "Category                             0\n",
       "Price_USD                            0\n",
       "Battery_Life_Hours                   0\n",
       "Heart_Rate_Accuracy_Percent          0\n",
       "Step_Count_Accuracy_Percent          0\n",
       "Sleep_Tracking_Accuracy_Percent      0\n",
       "Water_Resistance_Rating              0\n",
       "User_Satisfaction_Rating             0\n",
       "GPS_Accuracy_Meters                632\n",
       "Connectivity_Features                0\n",
       "Health_Sensors_Count                 0\n",
       "App_Ecosystem_Support                0\n",
       "Performance_Score                    0\n",
       "dtype: int64"
      ]
     },
     "execution_count": 73,
     "metadata": {},
     "output_type": "execute_result"
    }
   ],
   "source": [
    "df.isnull().sum()"
   ]
  },
  {
   "cell_type": "code",
   "execution_count": 74,
   "id": "741bd385",
   "metadata": {},
   "outputs": [
    {
     "data": {
      "text/plain": [
       "np.int64(0)"
      ]
     },
     "execution_count": 74,
     "metadata": {},
     "output_type": "execute_result"
    }
   ],
   "source": [
    "df.duplicated().sum()"
   ]
  },
  {
   "cell_type": "code",
   "execution_count": 75,
   "id": "53e1da5d",
   "metadata": {},
   "outputs": [],
   "source": [
    "# ✅ Convert 'Test_Date' column to datetime format\n",
    "df['Test_Date'] = pd.to_datetime(df['Test_Date'])\n",
    "\n",
    "# ✅ Extract day, month, and year from the date and store them in new columns\n",
    "df['Test_Date_day'] = df['Test_Date'].dt.day\n",
    "df['Test_Date_month'] = df['Test_Date'].dt.month\n",
    "df['Test_Date_year'] = df['Test_Date'].dt.year\n",
    "\n",
    "# ✅ Drop original date and non-numeric/categorical columns that may not be useful for modeling\n",
    "df.drop('Test_Date', axis=1, inplace=True)\n",
    "df.drop('Connectivity_Features', axis=1, inplace=True)\n",
    "df.drop('App_Ecosystem_Support', axis=1, inplace=True)\n",
    "df.drop('Device_Name', axis=1, inplace=True)\n",
    "\n",
    "# ✅ One-hot encode all remaining categorical (object) columns\n",
    "for col in df.select_dtypes(include='object').columns:\n",
    "    dummies = pd.get_dummies(df[col], prefix=col, drop_first=True).astype(int)  # Create binary columns\n",
    "    df = pd.concat([df.drop(columns=[col]), dummies], axis=1)  # Replace original with dummies\n",
    "\n",
    "# ✅ Impute missing values in 'GPS_Accuracy_Meters' using median strategy\n",
    "imputer = SimpleImputer(strategy='median')\n",
    "df['GPS_Accuracy_Meters'] = imputer.fit_transform(df[['GPS_Accuracy_Meters']]).ravel()  # Flatten to 1D"
   ]
  },
  {
   "cell_type": "code",
   "execution_count": 76,
   "id": "5f3295ef",
   "metadata": {},
   "outputs": [
    {
     "name": "stdout",
     "output_type": "stream",
     "text": [
      "R² Score: 0.8660917518116604\n"
     ]
    }
   ],
   "source": [
    "# ✅ Step 1: Split the features (X) and target (y)\n",
    "x = df.drop(columns=['User_Satisfaction_Rating'], axis=1)  # All columns except the target\n",
    "y = df['User_Satisfaction_Rating']  # Target column\n",
    "\n",
    "# ✅ Step 2: Train-test split (80% training, 20% testing)\n",
    "from sklearn.model_selection import train_test_split\n",
    "x_train, x_test, y_train, y_test = train_test_split(x, y, test_size=0.2, random_state=42)\n",
    "\n",
    "# ✅ Step 3: Feature scaling using StandardScaler\n",
    "from sklearn.preprocessing import StandardScaler\n",
    "sc = StandardScaler()\n",
    "\n",
    "# Fit the scaler on training data and transform both train and test sets\n",
    "x_train_sc = sc.fit_transform(x_train)\n",
    "x_test_sc = sc.transform(x_test)  # Use transform (not fit_transform) to prevent data leakage\n",
    "\n",
    "# ✅ Step 4: Initialize and train the Random Forest Regressor\n",
    "from sklearn.ensemble import RandomForestRegressor\n",
    "rf = RandomForestRegressor(max_samples=0.75, random_state=42)\n",
    "rf.fit(x_train_sc, y_train)\n",
    "\n",
    "# ✅ Step 5: Make predictions on the test set\n",
    "y_pred = rf.predict(x_test_sc)\n",
    "\n",
    "# ✅ Step 6: Evaluate model using R² Score\n",
    "from sklearn.metrics import r2_score\n",
    "r2 = r2_score(y_test, y_pred)  # (true values, predicted values)\n",
    "print(\"R² Score:\", r2)\n"
   ]
  },
  {
   "cell_type": "code",
   "execution_count": 77,
   "id": "f3ecb445",
   "metadata": {},
   "outputs": [],
   "source": [
    "param_grid = {\n",
    "    'n_estimators': [100, 200, 300],\n",
    "    'max_depth': [None, 10, 20],\n",
    "    'max_features': ['auto', 'sqrt'],\n",
    "    'min_samples_split': [2, 5]\n",
    "}"
   ]
  },
  {
   "cell_type": "code",
   "execution_count": 67,
   "id": "d2ed1cfd",
   "metadata": {},
   "outputs": [
    {
     "name": "stdout",
     "output_type": "stream",
     "text": [
      "Fitting 5 folds for each of 24 candidates, totalling 120 fits\n"
     ]
    },
    {
     "name": "stderr",
     "output_type": "stream",
     "text": [
      "C:\\Users\\clash\\AppData\\Local\\Packages\\PythonSoftwareFoundation.Python.3.12_qbz5n2kfra8p0\\LocalCache\\local-packages\\Python312\\site-packages\\sklearn\\model_selection\\_validation.py:516: FitFailedWarning: \n",
      "60 fits failed out of a total of 120.\n",
      "The score on these train-test partitions for these parameters will be set to nan.\n",
      "If these failures are not expected, you can try to debug them by setting error_score='raise'.\n",
      "\n",
      "Below are more details about the failures:\n",
      "--------------------------------------------------------------------------------\n",
      "34 fits failed with the following error:\n",
      "Traceback (most recent call last):\n",
      "  File \"C:\\Users\\clash\\AppData\\Local\\Packages\\PythonSoftwareFoundation.Python.3.12_qbz5n2kfra8p0\\LocalCache\\local-packages\\Python312\\site-packages\\sklearn\\model_selection\\_validation.py\", line 859, in _fit_and_score\n",
      "    estimator.fit(X_train, y_train, **fit_params)\n",
      "  File \"C:\\Users\\clash\\AppData\\Local\\Packages\\PythonSoftwareFoundation.Python.3.12_qbz5n2kfra8p0\\LocalCache\\local-packages\\Python312\\site-packages\\sklearn\\base.py\", line 1356, in wrapper\n",
      "    estimator._validate_params()\n",
      "  File \"C:\\Users\\clash\\AppData\\Local\\Packages\\PythonSoftwareFoundation.Python.3.12_qbz5n2kfra8p0\\LocalCache\\local-packages\\Python312\\site-packages\\sklearn\\base.py\", line 469, in _validate_params\n",
      "    validate_parameter_constraints(\n",
      "  File \"C:\\Users\\clash\\AppData\\Local\\Packages\\PythonSoftwareFoundation.Python.3.12_qbz5n2kfra8p0\\LocalCache\\local-packages\\Python312\\site-packages\\sklearn\\utils\\_param_validation.py\", line 98, in validate_parameter_constraints\n",
      "    raise InvalidParameterError(\n",
      "sklearn.utils._param_validation.InvalidParameterError: The 'max_features' parameter of RandomForestRegressor must be an int in the range [1, inf), a float in the range (0.0, 1.0], a str among {'sqrt', 'log2'} or None. Got 'auto' instead.\n",
      "\n",
      "--------------------------------------------------------------------------------\n",
      "26 fits failed with the following error:\n",
      "Traceback (most recent call last):\n",
      "  File \"C:\\Users\\clash\\AppData\\Local\\Packages\\PythonSoftwareFoundation.Python.3.12_qbz5n2kfra8p0\\LocalCache\\local-packages\\Python312\\site-packages\\sklearn\\model_selection\\_validation.py\", line 859, in _fit_and_score\n",
      "    estimator.fit(X_train, y_train, **fit_params)\n",
      "  File \"C:\\Users\\clash\\AppData\\Local\\Packages\\PythonSoftwareFoundation.Python.3.12_qbz5n2kfra8p0\\LocalCache\\local-packages\\Python312\\site-packages\\sklearn\\base.py\", line 1356, in wrapper\n",
      "    estimator._validate_params()\n",
      "  File \"C:\\Users\\clash\\AppData\\Local\\Packages\\PythonSoftwareFoundation.Python.3.12_qbz5n2kfra8p0\\LocalCache\\local-packages\\Python312\\site-packages\\sklearn\\base.py\", line 469, in _validate_params\n",
      "    validate_parameter_constraints(\n",
      "  File \"C:\\Users\\clash\\AppData\\Local\\Packages\\PythonSoftwareFoundation.Python.3.12_qbz5n2kfra8p0\\LocalCache\\local-packages\\Python312\\site-packages\\sklearn\\utils\\_param_validation.py\", line 98, in validate_parameter_constraints\n",
      "    raise InvalidParameterError(\n",
      "sklearn.utils._param_validation.InvalidParameterError: The 'max_features' parameter of RandomForestRegressor must be an int in the range [1, inf), a float in the range (0.0, 1.0], a str among {'log2', 'sqrt'} or None. Got 'auto' instead.\n",
      "\n",
      "  warnings.warn(some_fits_failed_message, FitFailedWarning)\n",
      "C:\\Users\\clash\\AppData\\Local\\Packages\\PythonSoftwareFoundation.Python.3.12_qbz5n2kfra8p0\\LocalCache\\local-packages\\Python312\\site-packages\\sklearn\\model_selection\\_search.py:1135: UserWarning: One or more of the test scores are non-finite: [       nan        nan        nan        nan 0.78812593 0.79193558\n",
      " 0.78841874 0.7869443         nan        nan        nan        nan\n",
      " 0.75670975 0.75740465 0.75780875 0.75747744        nan        nan\n",
      "        nan        nan 0.78934395 0.79115121 0.78811263 0.78751557]\n",
      "  warnings.warn(\n"
     ]
    },
    {
     "name": "stdout",
     "output_type": "stream",
     "text": [
      "Best Parameters: {'max_depth': None, 'max_features': 'sqrt', 'min_samples_split': 2, 'n_estimators': 200}\n",
      "Best R² Score from GridSearchCV: 0.7919355753034667\n"
     ]
    }
   ],
   "source": [
    "from sklearn.model_selection import GridSearchCV\n",
    "\n",
    "# ✅ Step 1: Define the hyperparameter grid to search\n",
    "param_grid = {\n",
    "    'n_estimators': [100, 200],\n",
    "    'max_depth': [None, 10, 20],\n",
    "    'min_samples_split': [2, 5],\n",
    "    'max_features': ['auto', 'sqrt']\n",
    "}\n",
    "\n",
    "# ✅ Step 2: Set up GridSearchCV with 5-fold cross-validation and R² as the scoring metric\n",
    "grid_search = GridSearchCV(\n",
    "    estimator=rf,              # RandomForestRegressor instance\n",
    "    param_grid=param_grid,     # Dictionary of hyperparameters to try\n",
    "    cv=5,                      # 5-fold cross-validation\n",
    "    scoring='r2',              # Evaluation metric: R² score\n",
    "    n_jobs=-1,                 # Use all available CPU cores for parallel processing\n",
    "    verbose=1                  # Print progress during search\n",
    ")\n",
    "\n",
    "# ✅ Step 3: Run the grid search on the scaled training data\n",
    "grid_search.fit(x_train_sc, y_train)\n",
    "\n",
    "# ✅ Step 4: Get the best model and parameters found during the search\n",
    "best_model = grid_search.best_estimator_              # Best trained model\n",
    "print(\"Best Parameters:\", grid_search.best_params_)   # Best hyperparameters\n",
    "print(\"Best R² Score from GridSearchCV:\", grid_search.best_score_)  # Best cross-validated R² score"
   ]
  },
  {
   "cell_type": "code",
   "execution_count": null,
   "id": "42c23028",
   "metadata": {},
   "outputs": [],
   "source": []
  },
  {
   "cell_type": "code",
   "execution_count": null,
   "id": "8cf2b3d1",
   "metadata": {},
   "outputs": [],
   "source": []
  },
  {
   "cell_type": "code",
   "execution_count": null,
   "id": "db400ec9",
   "metadata": {},
   "outputs": [],
   "source": []
  },
  {
   "cell_type": "code",
   "execution_count": null,
   "id": "e1648d8d",
   "metadata": {},
   "outputs": [],
   "source": []
  }
 ],
 "metadata": {
  "kernelspec": {
   "display_name": "Python 3",
   "language": "python",
   "name": "python3"
  },
  "language_info": {
   "codemirror_mode": {
    "name": "ipython",
    "version": 3
   },
   "file_extension": ".py",
   "mimetype": "text/x-python",
   "name": "python",
   "nbconvert_exporter": "python",
   "pygments_lexer": "ipython3",
   "version": "3.12.10"
  }
 },
 "nbformat": 4,
 "nbformat_minor": 5
}
